{
 "cells": [
  {
   "cell_type": "markdown",
   "metadata": {},
   "source": [
    "## Ensemble Hybrid deep learning model for HAR on  WISDM Dataset"
   ]
  },
  {
   "cell_type": "code",
   "execution_count": 34,
   "metadata": {},
   "outputs": [],
   "source": [
    "##model_wisdm.py\n",
    "import numpy as np\n",
    "import pandas as pd\n",
    "#import seaborn as sns"
   ]
  },
  {
   "cell_type": "code",
   "execution_count": 35,
   "metadata": {},
   "outputs": [],
   "source": [
    "#preprocess data \n",
    "def preprocess(data):\n",
    "    #column_names = ['user_id','activity','timestamp', 'x_axis', 'y_axis', 'z_axis']\n",
    "    df = pd.read_csv(data,on_bad_lines='skip',index_col=False)\n",
    "    df.columns= ['user_id','activity','timestamp', 'x_axis', 'y_axis', 'z_axis']\n",
    "    df = df.dropna() # removing null values\n",
    "    df['z_axis'].replace(regex=True, inplace=True, to_replace=r';', value=r'') # Transforming the z-axis to float\n",
    "    \n",
    "    #### Label encoding \n",
    "    from sklearn.preprocessing import LabelEncoder\n",
    "    label = LabelEncoder()\n",
    "    df['label'] = label.fit_transform(df['activity'])\n",
    "    \n",
    "    ##Balanace this Data :Under sampling\n",
    "    Walking = df[df['activity']=='Walking'].head(48394).copy()\n",
    "    Jogging = df[df['activity']=='Jogging'].head(48394).copy()\n",
    "    Upstairs = df[df['activity']=='Upstairs'].head(48394).copy()\n",
    "    Downstairs = df[df['activity']=='Downstairs'].head(48394).copy()\n",
    "    Sitting = df[df['activity']=='Sitting'].head(48394).copy()\n",
    "    Standing = df[df['activity']=='Standing'].copy()\n",
    "    \n",
    "    #df_balanced = pd.DataFrame()\n",
    "    df_balanced = pd.concat([Walking, Jogging, Upstairs, Downstairs, Sitting, Standing])\n",
    "    \n",
    "    ##Normalize/Standardized data\n",
    "    from sklearn.preprocessing import StandardScaler, LabelEncoder\n",
    "    X = df_balanced[['x_axis', 'y_axis', 'z_axis']]\n",
    "    target = df_balanced['label']\n",
    "    scaler = StandardScaler()\n",
    "    dx = scaler.fit_transform(X)\n",
    "    df_scaled = pd.DataFrame(data = dx, columns = X.columns)\n",
    "    df_scaled['label'] = target.values\n",
    "    return df_scaled"
   ]
  },
  {
   "cell_type": "code",
   "execution_count": 36,
   "metadata": {},
   "outputs": [],
   "source": [
    "dff=preprocess('WISDM_dataset_raw.txt')\n",
    "#dff.head()"
   ]
  },
  {
   "cell_type": "code",
   "execution_count": 37,
   "metadata": {},
   "outputs": [],
   "source": [
    "## Segmenting samples (windowing) functions \n",
    "import scipy.stats as stats\n",
    "Fs = 20\n",
    "segment_size =  128# Fs*4 # window size=n_time steps=frame size\n",
    "step_size =  25 # Fs*2  # step size \n",
    "n_features = 3     \n",
    "\n",
    "def get_segments(df, segment_size, step_size):\n",
    "    segments = []\n",
    "    labels = []\n",
    "    for i in range(0, len(df) - segment_size - 1, step_size):\n",
    "        xs = dff['x_axis'].values[i: i + segment_size]\n",
    "        ys = dff['y_axis'].values[i: i + segment_size]\n",
    "        zs = dff['z_axis'].values[i: i + segment_size]\n",
    "        label = stats.mode(dff['label'][i: i + segment_size])[0][0] # [0][0] shows the index of the current sequence\n",
    "        #We used the dstack() to ensure that each array is stacked in such a way that\n",
    "        #the features are separated in the third dimension, as we would prefer.\n",
    "        segments.append(np.dstack([xs, ys, zs]))\n",
    "        labels.append(label)\n",
    "\n",
    "    # Bring the segments into a better shape\n",
    "    segments=np.asarray(segments, dtype= np.float32).reshape(-1, segment_size, n_features)\n",
    "    labels = np.asarray(pd.get_dummies(labels), dtype = np.float32)\n",
    "                \n",
    "    return segments, labels"
   ]
  },
  {
   "cell_type": "code",
   "execution_count": 38,
   "metadata": {},
   "outputs": [],
   "source": [
    "X, y = get_segments(dff, segment_size, step_size)"
   ]
  },
  {
   "cell_type": "code",
   "execution_count": 39,
   "metadata": {},
   "outputs": [
    {
     "data": {
      "text/plain": [
       "((11610, 128, 3), (11610, 6))"
      ]
     },
     "execution_count": 39,
     "metadata": {},
     "output_type": "execute_result"
    }
   ],
   "source": [
    "X.shape, y.shape"
   ]
  },
  {
   "cell_type": "code",
   "execution_count": 40,
   "metadata": {},
   "outputs": [],
   "source": [
    "# reshape data into time steps of sub-sequences\n",
    "n_steps, n_length = 4, 32\n",
    "df_X = X.reshape((X.shape[0], n_steps, n_length, n_features))\n",
    "n_outputs = y.shape[1] #n_outputs= 6"
   ]
  },
  {
   "cell_type": "code",
   "execution_count": 41,
   "metadata": {},
   "outputs": [],
   "source": [
    "# split training set into training and validation set\n",
    "from sklearn.model_selection import train_test_split\n",
    "# split data into training set and test set\n",
    "X_train_main, X_test, y_train_main, y_test = train_test_split(df_X, y,test_size=0.20, random_state=7)\n",
    "\n",
    "# split training set into training and validation set\n",
    "X_train, X_valid, y_train, y_valid = train_test_split(X_train_main,y_train_main,test_size=0.30,random_state=7)"
   ]
  },
  {
   "cell_type": "code",
   "execution_count": 42,
   "metadata": {},
   "outputs": [
    {
     "data": {
      "text/plain": [
       "((6501, 4, 32, 3), (2322, 4, 32, 3), (6501, 6), (2322, 6))"
      ]
     },
     "execution_count": 42,
     "metadata": {},
     "output_type": "execute_result"
    }
   ],
   "source": [
    "X_train.shape, X_test.shape,y_train.shape,y_test.shape"
   ]
  },
  {
   "cell_type": "markdown",
   "metadata": {},
   "source": [
    "###  Load  Models"
   ]
  },
  {
   "cell_type": "code",
   "execution_count": 43,
   "metadata": {},
   "outputs": [],
   "source": [
    "#dependencies = {'f1_m': f1_m }"
   ]
  },
  {
   "cell_type": "code",
   "execution_count": 44,
   "metadata": {},
   "outputs": [],
   "source": [
    "from keras import models    "
   ]
  },
  {
   "cell_type": "code",
   "execution_count": 45,
   "metadata": {},
   "outputs": [],
   "source": [
    "# create a custom function to load model\n",
    "def load_all_models(n_models):\n",
    "    all_models = list()\n",
    "    for i in range(n_models-1):\n",
    "        # Specify the filename\n",
    "        filename = './Models/model' + str(i + 1) + '.h5'\n",
    "        # load the model \n",
    "        model = models.load_model(filename)\n",
    "        # Add a list of all the weaker learners\n",
    "        all_models.append(model)\n",
    "        print('>loaded %s' % filename)\n",
    "    return all_models"
   ]
  },
  {
   "cell_type": "code",
   "execution_count": 46,
   "metadata": {},
   "outputs": [
    {
     "name": "stdout",
     "output_type": "stream",
     "text": [
      ">loaded ./Models/model1.h5\n",
      ">loaded ./Models/model2.h5\n",
      ">loaded ./Models/model3.h5\n",
      ">loaded ./Models/model4.h5\n",
      "Loaded 4 models\n"
     ]
    }
   ],
   "source": [
    "n_members = 5\n",
    "members = load_all_models(n_members)\n",
    "print('Loaded %d models' % len(members))"
   ]
  },
  {
   "cell_type": "code",
   "execution_count": 47,
   "metadata": {},
   "outputs": [],
   "source": [
    "from sklearn.metrics import accuracy_score,classification_report"
   ]
  },
  {
   "cell_type": "markdown",
   "metadata": {},
   "source": [
    "### Evaluate standalone models on test dataset"
   ]
  },
  {
   "cell_type": "code",
   "execution_count": 48,
   "metadata": {},
   "outputs": [
    {
     "name": "stdout",
     "output_type": "stream",
     "text": [
      "73/73 [==============================] - 1s 5ms/step\n",
      "Test  acc : 0.9866494401378122\n",
      "\n",
      " -------------Classification Report-------------\n",
      "\n",
      "73/73 [==============================] - 1s 3ms/step\n",
      "Test  acc : 0.983634797588286\n",
      "\n",
      " -------------Classification Report-------------\n",
      "\n",
      "73/73 [==============================] - 1s 5ms/step\n",
      "Test  acc : 0.975452196382429\n",
      "\n",
      " -------------Classification Report-------------\n",
      "\n",
      "73/73 [==============================] - 1s 5ms/step\n",
      "Test  acc : 0.9776055124892334\n",
      "\n",
      " -------------Classification Report-------------\n",
      "\n"
     ]
    }
   ],
   "source": [
    "# evaluate standalone models on test dataset\n",
    "for model in members:\n",
    "        y_preds = model.predict(X_test) #class Prediction\n",
    "        \n",
    "        y_pred_test=np.argmax(y_preds,axis=1) \n",
    "        y_true_test=np.argmax(y_test,axis=1) \n",
    "        \n",
    "        print(\"Test  acc : {}\".format(accuracy_score(y_true_test, y_pred_test)))\n",
    "        print(\"\\n -------------Classification Report-------------\\n\")\n",
    "        #print(classification_report(y_true_test, y_pred_test))"
   ]
  },
  {
   "cell_type": "markdown",
   "metadata": {},
   "source": [
    "### Running the member models to make predictions on the validation set, and create a new training set with the resulting predictions"
   ]
  },
  {
   "cell_type": "code",
   "execution_count": 49,
   "metadata": {},
   "outputs": [],
   "source": [
    "# create stacked model input dataset as outputs from the ensemble\n",
    "def stacked_dataset(members, inputX):\n",
    "\tstackX = None\n",
    "\tfor model in members:\n",
    "\t\t# make prediction\n",
    "\t\tyhat = model.predict(inputX, verbose=0)\n",
    "\t\t# stack predictions into [rows, members, probabilities]\n",
    "\t\tif stackX is None:\n",
    "\t\t\tstackX = yhat #\n",
    "\t\telse:\n",
    "\t\t\tstackX = np.dstack((stackX, yhat)) # stack preditions \n",
    "\t# flatten predictions to [rows, members x probabilities]\n",
    "\tstackX = stackX.reshape((stackX.shape[0], stackX.shape[1]*stackX.shape[2]))\n",
    "\treturn stackX"
   ]
  },
  {
   "cell_type": "code",
   "execution_count": 50,
   "metadata": {},
   "outputs": [],
   "source": [
    "from sklearn.linear_model import LogisticRegression\n",
    "from sklearn.ensemble import RandomForestClassifier\n",
    "from sklearn.ensemble import GradientBoostingClassifier\n",
    "from sklearn.model_selection import GridSearchCV "
   ]
  },
  {
   "cell_type": "code",
   "execution_count": 51,
   "metadata": {},
   "outputs": [],
   "source": [
    "# defining parameter range \n",
    "param_grid = {\n",
    "    #'bootstrap': [True],\n",
    "    #'max_depth': [80, 90, 100, 110],\n",
    "    'max_features': [2, 3],\n",
    "    'min_samples_leaf': [3, 4, 5],\n",
    "    'min_samples_split': [8, 10, 12],\n",
    "    'n_estimators': [100, 200, 300]\n",
    "}"
   ]
  },
  {
   "cell_type": "code",
   "execution_count": 52,
   "metadata": {},
   "outputs": [],
   "source": [
    "# fit a model based on the outputs from the ensemble members\n",
    "def fit_stacked_model(members, inputX, inputy):\n",
    "    # create dataset using ensemble\n",
    "    stackedX = stacked_dataset(members, inputX)\n",
    "    inputy=np.argmax(inputy,axis=1) \n",
    "    # fit the meta learner\n",
    "    #model = GradientBoostingClassifier(n_estimators=100) #meta learner\n",
    "    rf=RandomForestClassifier()\n",
    "    model = GridSearchCV(estimator = rf, param_grid = param_grid,cv = 5, ) # Instantiate the grid search model with CV=10\n",
    "    model.fit(stackedX, inputy)\n",
    "    return model"
   ]
  },
  {
   "cell_type": "code",
   "execution_count": 53,
   "metadata": {},
   "outputs": [],
   "source": [
    "model = fit_stacked_model(members, X_valid,y_valid) # predictions on validation set"
   ]
  },
  {
   "cell_type": "markdown",
   "metadata": {},
   "source": [
    "### Make  prediction with the stacked model"
   ]
  },
  {
   "cell_type": "code",
   "execution_count": 54,
   "metadata": {
    "scrolled": false
   },
   "outputs": [],
   "source": [
    "# make a prediction with the stacked model\n",
    "def stacked_prediction(members, model, inputX):\n",
    "    # create dataset using ensemble\n",
    "    stackedX = stacked_dataset(members, inputX)\n",
    "    # make a prediction\n",
    "    yhat = model.predict(stackedX)\n",
    "    return yhat"
   ]
  },
  {
   "cell_type": "code",
   "execution_count": 55,
   "metadata": {
    "scrolled": false
   },
   "outputs": [],
   "source": [
    "# evaluate model on test set\n",
    "y_pred_test = stacked_prediction(members, model, X_test)"
   ]
  },
  {
   "cell_type": "code",
   "execution_count": 56,
   "metadata": {},
   "outputs": [],
   "source": [
    "y_true_test=np.argmax(y_test,axis=1) "
   ]
  },
  {
   "cell_type": "code",
   "execution_count": 57,
   "metadata": {},
   "outputs": [
    {
     "name": "stdout",
     "output_type": "stream",
     "text": [
      "Stacked Test Accuracy: 0.994\n"
     ]
    }
   ],
   "source": [
    "acc = accuracy_score(y_true_test, y_pred_test)\n",
    "print('Stacked Test Accuracy: %.3f' % acc)"
   ]
  },
  {
   "cell_type": "code",
   "execution_count": 58,
   "metadata": {},
   "outputs": [
    {
     "name": "stdout",
     "output_type": "stream",
     "text": [
      "[[363   0   0   0   4   0]\n",
      " [  1 396   0   0   0   0]\n",
      " [  0   0 386   2   0   0]\n",
      " [  0   0   1 375   0   0]\n",
      " [  5   1   0   0 406   0]\n",
      " [  0   0   0   0   0 382]]\n",
      "0.9939707149009475\n",
      "              precision    recall  f1-score   support\n",
      "\n",
      "           0       0.98      0.99      0.99       367\n",
      "           1       1.00      1.00      1.00       397\n",
      "           2       1.00      0.99      1.00       388\n",
      "           3       0.99      1.00      1.00       376\n",
      "           4       0.99      0.99      0.99       412\n",
      "           5       1.00      1.00      1.00       382\n",
      "\n",
      "    accuracy                           0.99      2322\n",
      "   macro avg       0.99      0.99      0.99      2322\n",
      "weighted avg       0.99      0.99      0.99      2322\n",
      "\n"
     ]
    }
   ],
   "source": [
    "import seaborn as sns\n",
    "import sklearn.metrics as skm\n",
    "import matplotlib.pyplot as plt\n",
    "from sklearn.metrics import accuracy_score as acc\n",
    "from sklearn.metrics import confusion_matrix,classification_report\n",
    "cm=confusion_matrix(y_true_test,y_pred_test)\n",
    "print(cm)\n",
    "print(acc(y_true_test,y_pred_test))\n",
    "print(classification_report(y_true_test,y_pred_test))"
   ]
  },
  {
   "cell_type": "code",
   "execution_count": 59,
   "metadata": {},
   "outputs": [],
   "source": [
    "cf=np.empty((6,6))\n",
    "for i in range(6):\n",
    "    cf[i]=(cm[i]/np.sum(cm[i]))"
   ]
  },
  {
   "cell_type": "code",
   "execution_count": 60,
   "metadata": {},
   "outputs": [],
   "source": [
    "# group_counts = [\"{0:.0f}\".format(value) for value in cm.flatten()]\n",
    "group_percentages = [\"{0:.2%}\".format(value) for value in cf.flatten()]\n",
    "labels = [f\"{v1}\" for v1 in group_percentages]\n",
    "labels = np.asarray(labels).reshape(6,6)"
   ]
  },
  {
   "cell_type": "code",
   "execution_count": 61,
   "metadata": {},
   "outputs": [
    {
     "data": {
      "image/png": "[encoded data removed]",
      "text/plain": [
       "<Figure size 576x432 with 2 Axes>"
      ]
     },
     "metadata": {
      "needs_background": "light"
     },
     "output_type": "display_data"
    }
   ],
   "source": [
    "fig = plt.figure(figsize=(8,6))\n",
    "ax=fig.add_subplot(111)\n",
    "sns.heatmap(cm, annot=labels,fmt=\"\",cmap='RdYlBu_r',ax=ax)\n",
    "ax.set_xlabel(\"Predicted Labels\\n\\n Overall_accuracy=\"\"{0:.2%}\".format(acc(y_true_test,y_pred_test)))\n",
    "ax.set_ylabel(\"True Labels\")\n",
    "ax.set_title(\"Confusion Matrix\")\n",
    "ax.xaxis.set_ticklabels(['Walking','Jogging','Upstairs','Downstairs','Sitting','Standing'])\n",
    "ax.yaxis.set_ticklabels(['Walking','Jogging','Upstairs','Downstairs','Sitting','Standing'])\n",
    "plt.savefig('ConfusionMatrix_Ensem-HAR_WISDM',dpi=1200, bbox_inches='tight')"
   ]
  },
  {
   "cell_type": "code",
   "execution_count": 62,
   "metadata": {},
   "outputs": [
    {
     "data": {
      "text/plain": [
       "(0.9939293048389629, 0.9940341008852626, 0.9939789450303324, None)"
      ]
     },
     "execution_count": 62,
     "metadata": {},
     "output_type": "execute_result"
    }
   ],
   "source": [
    "from sklearn.metrics import precision_recall_fscore_support\n",
    "precision_recall_fscore_support(y_true_test, y_pred_test, average='macro')"
   ]
  },
  {
   "cell_type": "code",
   "execution_count": 63,
   "metadata": {},
   "outputs": [],
   "source": [
    "from mlxtend.plotting import plot_confusion_matrix\n",
    "from sklearn.metrics import confusion_matrix"
   ]
  },
  {
   "cell_type": "code",
   "execution_count": 64,
   "metadata": {
    "scrolled": false
   },
   "outputs": [
    {
     "data": {
      "text/plain": [
       "(<Figure size 504x504 with 1 Axes>,\n",
       " <AxesSubplot:xlabel='predicted label', ylabel='true label'>)"
      ]
     },
     "execution_count": 64,
     "metadata": {},
     "output_type": "execute_result"
    },
    {
     "data": {
      "image/png": "[encoded data removed]",
      "text/plain": [
       "<Figure size 504x504 with 1 Axes>"
      ]
     },
     "metadata": {
      "needs_background": "light"
     },
     "output_type": "display_data"
    }
   ],
   "source": [
    "mat = confusion_matrix(y_true_test, y_pred_test)\n",
    "plot_confusion_matrix(conf_mat=mat,show_normed=True, figsize=(7,7))"
   ]
  },
  {
   "cell_type": "code",
   "execution_count": null,
   "metadata": {},
   "outputs": [],
   "source": []
  }
 ],
 "metadata": {
  "kernelspec": {
   "display_name": "Python 3 (ipykernel)",
   "language": "python",
   "name": "python3"
  },
  "language_info": {
   "codemirror_mode": {
    "name": "ipython",
    "version": 3
   },
   "file_extension": ".py",
   "mimetype": "text/x-python",
   "name": "python",
   "nbconvert_exporter": "python",
   "pygments_lexer": "ipython3",
   "version": "3.9.12"
  }
 },
 "nbformat": 4,
 "nbformat_minor": 4
}
