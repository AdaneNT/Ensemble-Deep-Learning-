{
 "cells": [
  {
   "cell_type": "markdown",
   "metadata": {},
   "source": [
    "## Ensemble Hybrid deep learning model for HARon  WISDM Dataset"
   ]
  },
  {
   "cell_type": "markdown",
   "metadata": {},
   "source": [
    "###   Models"
   ]
  },
  {
   "cell_type": "code",
   "execution_count": 1,
   "metadata": {},
   "outputs": [],
   "source": [
    "##model_wisdm.py\n",
    "import numpy as np\n",
    "import pandas as pd\n",
    "#import seaborn as sns"
   ]
  },
  {
   "cell_type": "code",
   "execution_count": 2,
   "metadata": {},
   "outputs": [],
   "source": [
    "#preprocess data \n",
    "def preprocess(data):\n",
    "    #column_names = ['user_id','activity','timestamp', 'x_axis', 'y_axis', 'z_axis']\n",
    "    df = pd.read_csv(data,on_bad_lines='skip',index_col=False)\n",
    "    df.columns= ['user_id','activity','timestamp', 'x_axis', 'y_axis', 'z_axis']\n",
    "    df = df.dropna() # removing null values\n",
    "    df['z_axis'].replace(regex=True, inplace=True, to_replace=r';', value=r'') # Transforming the z-axis to float\n",
    "    \n",
    "    #### Label encoding \n",
    "    from sklearn.preprocessing import LabelEncoder\n",
    "    label = LabelEncoder()\n",
    "    df['label'] = label.fit_transform(df['activity'])\n",
    "    \n",
    "    ##Balanace this Data :Under sampling\n",
    "    Walking = df[df['activity']=='Walking'].head(48394).copy()\n",
    "    Jogging = df[df['activity']=='Jogging'].head(48394).copy()\n",
    "    Upstairs = df[df['activity']=='Upstairs'].head(48394).copy()\n",
    "    Downstairs = df[df['activity']=='Downstairs'].head(48394).copy()\n",
    "    Sitting = df[df['activity']=='Sitting'].head(48394).copy()\n",
    "    Standing = df[df['activity']=='Standing'].copy()\n",
    "    \n",
    "    #df_balanced = pd.DataFrame()\n",
    "    df_balanced = pd.concat([Walking, Jogging, Upstairs, Downstairs, Sitting, Standing])\n",
    "    \n",
    "    ##Normalize/Standardized data\n",
    "    from sklearn.preprocessing import StandardScaler, LabelEncoder\n",
    "    X = df_balanced[['x_axis', 'y_axis', 'z_axis']]\n",
    "    target = df_balanced['label']\n",
    "    scaler = StandardScaler()\n",
    "    dx = scaler.fit_transform(X)\n",
    "    df_scaled = pd.DataFrame(data = dx, columns = X.columns)\n",
    "    df_scaled['label'] = target.values\n",
    "    return df_scaled"
   ]
  },
  {
   "cell_type": "code",
   "execution_count": 3,
   "metadata": {},
   "outputs": [
    {
     "name": "stderr",
     "output_type": "stream",
     "text": [
      "C:\\Users\\adanent\\Anaconda3\\envs\\Annotation_tool\\lib\\site-packages\\scipy\\__init__.py:146: UserWarning: A NumPy version >=1.16.5 and <1.23.0 is required for this version of SciPy (detected version 1.23.1\n",
      "  warnings.warn(f\"A NumPy version >={np_minversion} and <{np_maxversion}\"\n"
     ]
    }
   ],
   "source": [
    "dff=preprocess('C:/Datasets/WISDM_ar_v1.1/WISDM_ar_v1.1_raw.txt')\n",
    "#dff.head()"
   ]
  },
  {
   "cell_type": "code",
   "execution_count": 4,
   "metadata": {},
   "outputs": [],
   "source": [
    "## Segmenting samples (windowing) functions \n",
    "import scipy.stats as stats\n",
    "Fs = 20\n",
    "segment_size =  500# Fs*4 # window size=n_time steps=frame size\n",
    "step_size =  25 # Fs*2  # step size \n",
    "n_features = 3     \n",
    "\n",
    "def get_segments(df, segment_size, step_size):\n",
    "    segments = []\n",
    "    labels = []\n",
    "    for i in range(0, len(df) - segment_size - 1, step_size):\n",
    "        xs = dff['x_axis'].values[i: i + segment_size]\n",
    "        ys = dff['y_axis'].values[i: i + segment_size]\n",
    "        zs = dff['z_axis'].values[i: i + segment_size]\n",
    "        label = stats.mode(dff['label'][i: i + segment_size])[0][0] # [0][0] shows the index of the current sequence\n",
    "        #We used the dstack() to ensure that each array is stacked in such a way that\n",
    "        #the features are separated in the third dimension, as we would prefer.\n",
    "        segments.append(np.dstack([xs, ys, zs]))\n",
    "        labels.append(label)\n",
    "\n",
    "    # Bring the segments into a better shape\n",
    "    segments=np.asarray(segments, dtype= np.float32).reshape(-1, segment_size, n_features)\n",
    "    labels = np.asarray(pd.get_dummies(labels), dtype = np.float32)\n",
    "                \n",
    "    return segments, labels"
   ]
  },
  {
   "cell_type": "code",
   "execution_count": 5,
   "metadata": {},
   "outputs": [],
   "source": [
    "X, y = get_segments(dff, segment_size, step_size)"
   ]
  },
  {
   "cell_type": "code",
   "execution_count": 6,
   "metadata": {},
   "outputs": [
    {
     "data": {
      "text/plain": [
       "((11595, 500, 3), (11595, 6))"
      ]
     },
     "execution_count": 6,
     "metadata": {},
     "output_type": "execute_result"
    }
   ],
   "source": [
    "X.shape,y.shape"
   ]
  },
  {
   "cell_type": "markdown",
   "metadata": {},
   "source": [
    "### CNN-LSTM\n",
    "The CNN-LSTM architecture involves using Convolutional Neural Network (CNN) layers for\n",
    "feature extraction on input data combined with LSTMs to support sequence prediction. The CNN-LSTM model will read subsequences of the main sequence in as blocks, extract features from each block, then allow the LSTM to interpret the features extracted from each block. One approach to implementing this model is to split each window of 128 time steps into\n",
    "subsequences for the CNN model to process. For example, the 128 time steps in each window can be split into four subsequences of 32 time steps"
   ]
  },
  {
   "cell_type": "code",
   "execution_count": 7,
   "metadata": {},
   "outputs": [],
   "source": [
    "# reshape data into time steps of sub-sequences\n",
    "n_steps, n_length = 10, 50\n",
    "df_X = X.reshape((X.shape[0], n_steps, n_length, n_features))\n",
    "n_outputs = y.shape[1]#n_outputs= 6"
   ]
  },
  {
   "cell_type": "code",
   "execution_count": 8,
   "metadata": {},
   "outputs": [
    {
     "data": {
      "text/plain": [
       "((11595, 10, 50, 3), (11595, 6))"
      ]
     },
     "execution_count": 8,
     "metadata": {},
     "output_type": "execute_result"
    }
   ],
   "source": [
    "df_X.shape,np.shape(y)"
   ]
  },
  {
   "cell_type": "markdown",
   "metadata": {},
   "source": [
    "We can then define a CNN model that expects to read in sequences with a length of 32 time\n",
    "steps and three features. The entire CNN model can be wrapped in a TimeDistributed layer\n",
    "to allow the same CNN model to read in each of the four subsequences in the window. The\n",
    "extracted features are then flattened and provided to the LSTM model to read, extracting its\n",
    "own features before a final mapping to an activity is made."
   ]
  },
  {
   "cell_type": "code",
   "execution_count": 9,
   "metadata": {},
   "outputs": [],
   "source": [
    "from keras.models import Sequential\n",
    "from keras.layers import Dense\n",
    "from keras.layers import Flatten\n",
    "from keras.layers import Dropout\n",
    "from keras.layers import LSTM\n",
    "from keras.layers import TimeDistributed\n",
    "from keras.layers.convolutional import Conv1D\n",
    "from keras.layers.convolutional import MaxPooling1D"
   ]
  },
  {
   "cell_type": "code",
   "execution_count": 10,
   "metadata": {},
   "outputs": [],
   "source": [
    "#from sklearn.model_selection import GridSearchCV\n",
    "import keras\n",
    "from keras.wrappers.scikit_learn import KerasClassifier\n",
    "from scikeras.wrappers import KerasClassifier\n",
    "from sklearn.metrics import accuracy_score\n",
    "from sklearn.model_selection import GridSearchCV \n",
    "from sklearn.model_selection import train_test_split"
   ]
  },
  {
   "cell_type": "code",
   "execution_count": 11,
   "metadata": {},
   "outputs": [],
   "source": [
    "# split training set into training and validation set\n",
    "#X_train, X_test, y_train, y_test = train_test_split(df_X,y,test_size=0.20,random_state=7)"
   ]
  },
  {
   "cell_type": "code",
   "execution_count": 12,
   "metadata": {},
   "outputs": [],
   "source": [
    "# split data into training set and test set\n",
    "X_train_main, X_test, y_train_main, y_test = train_test_split(df_X, y,test_size=0.20, random_state=7)\n",
    "\n",
    "# split training set into training and validation set\n",
    "X_train, X_valid, y_train, y_valid = train_test_split(X_train_main,y_train_main,test_size=0.30,random_state=7)"
   ]
  },
  {
   "cell_type": "code",
   "execution_count": 13,
   "metadata": {},
   "outputs": [
    {
     "data": {
      "text/plain": [
       "((6493, 10, 50, 3), (2319, 10, 50, 3), (6493, 6), (2319, 6))"
      ]
     },
     "execution_count": 13,
     "metadata": {},
     "output_type": "execute_result"
    }
   ],
   "source": [
    "X_train.shape, X_test.shape,y_train.shape, y_test.shape"
   ]
  },
  {
   "cell_type": "code",
   "execution_count": 14,
   "metadata": {},
   "outputs": [],
   "source": [
    "def create_model(optimizer= 'rmsprop' , init= 'glorot_uniform' ):\n",
    "    # create model\n",
    "    model = Sequential()\n",
    "    model.add(TimeDistributed(Conv1D(filters=64, kernel_size=3, activation='relu'),input_shape=(None,n_length,n_features)))\n",
    "    model.add(TimeDistributed(Conv1D(filters=64, kernel_size=3, activation='relu')))\n",
    "    model.add(TimeDistributed(Dropout(0.5)))\n",
    "    model.add(TimeDistributed(MaxPooling1D(pool_size=2)))\n",
    "    model.add(TimeDistributed(Flatten()))\n",
    "    model.add(LSTM(100))\n",
    "    model.add(Dropout(0.5))\n",
    "    model.add(Dense(100, activation='relu'))\n",
    "    model.add(Dense(n_outputs, activation='softmax'))\n",
    "    model.compile(loss='categorical_crossentropy', optimizer='adam', metrics=['accuracy'])\n",
    "    return model"
   ]
  },
  {
   "cell_type": "code",
   "execution_count": 15,
   "metadata": {},
   "outputs": [],
   "source": [
    "### Initialize Model\n",
    "model_cnn_lstm=create_model()"
   ]
  },
  {
   "cell_type": "markdown",
   "metadata": {},
   "source": [
    "## Save Model"
   ]
  },
  {
   "cell_type": "code",
   "execution_count": 16,
   "metadata": {},
   "outputs": [
    {
     "name": "stdout",
     "output_type": "stream",
     "text": [
      "Epoch 1/10\n",
      "130/130 [==============================] - 41s 204ms/step - loss: 0.6176 - accuracy: 0.7496 - val_loss: 0.2462 - val_accuracy: 0.8908\n",
      "Epoch 2/10\n",
      "130/130 [==============================] - 22s 172ms/step - loss: 0.1721 - accuracy: 0.9313 - val_loss: 0.0769 - val_accuracy: 0.9713\n",
      "Epoch 3/10\n",
      "130/130 [==============================] - 23s 175ms/step - loss: 0.0786 - accuracy: 0.9737 - val_loss: 0.0330 - val_accuracy: 0.9885\n",
      "Epoch 4/10\n",
      "130/130 [==============================] - 17s 129ms/step - loss: 0.0332 - accuracy: 0.9892 - val_loss: 0.0266 - val_accuracy: 0.9914\n",
      "Epoch 5/10\n",
      "130/130 [==============================] - 16s 123ms/step - loss: 0.0410 - accuracy: 0.9877 - val_loss: 0.0344 - val_accuracy: 0.9889\n",
      "Epoch 6/10\n",
      "130/130 [==============================] - 16s 124ms/step - loss: 0.0268 - accuracy: 0.9909 - val_loss: 0.0155 - val_accuracy: 0.9953\n",
      "Epoch 7/10\n",
      "130/130 [==============================] - 24s 181ms/step - loss: 0.0136 - accuracy: 0.9960 - val_loss: 0.0103 - val_accuracy: 0.9968\n",
      "Epoch 8/10\n",
      "130/130 [==============================] - 23s 180ms/step - loss: 0.0299 - accuracy: 0.9895 - val_loss: 0.0083 - val_accuracy: 0.9978\n",
      "Epoch 9/10\n",
      "130/130 [==============================] - 25s 189ms/step - loss: 0.0070 - accuracy: 0.9985 - val_loss: 0.0076 - val_accuracy: 0.9978\n",
      "Epoch 10/10\n",
      "130/130 [==============================] - 25s 189ms/step - loss: 0.0062 - accuracy: 0.9991 - val_loss: 0.0040 - val_accuracy: 0.9986\n"
     ]
    }
   ],
   "source": [
    "history = model_cnn_lstm.fit(X_train, y_train, validation_data=(X_valid, y_valid), epochs=10, batch_size=50)"
   ]
  },
  {
   "cell_type": "code",
   "execution_count": 17,
   "metadata": {},
   "outputs": [],
   "source": [
    "model_cnn_lstm.save('cnn_lstm_500.h5')"
   ]
  },
  {
   "cell_type": "code",
   "execution_count": 18,
   "metadata": {},
   "outputs": [],
   "source": [
    "np.set_printoptions(suppress=True) #suppress scientific notation when printing :numpy "
   ]
  },
  {
   "cell_type": "code",
   "execution_count": 19,
   "metadata": {},
   "outputs": [
    {
     "name": "stdout",
     "output_type": "stream",
     "text": [
      "73/73 [==============================] - 12s 56ms/step\n"
     ]
    },
    {
     "data": {
      "text/plain": [
       "(array([[0.00000208, 0.00000011, 0.99999344, 0.00000292, 0.00000147,\n",
       "         0.00000012],\n",
       "        [0.00000451, 0.00000024, 0.00021169, 0.99977905, 0.00000109,\n",
       "         0.00000345],\n",
       "        [0.00026274, 0.00000034, 0.00000768, 0.00000335, 0.99972445,\n",
       "         0.00000145]], dtype=float32),)"
      ]
     },
     "execution_count": 19,
     "metadata": {},
     "output_type": "execute_result"
    }
   ],
   "source": [
    "# Make Predictions on test \n",
    "y_preds_test = model_cnn_lstm.predict(X_test) #class Prediction \n",
    "\n",
    "y_preds_test[:3], #y_probs_test[:5]"
   ]
  },
  {
   "cell_type": "code",
   "execution_count": 20,
   "metadata": {},
   "outputs": [
    {
     "data": {
      "text/plain": [
       "array([[0., 0., 1., 0., 0., 0.],\n",
       "       [0., 0., 0., 1., 0., 0.],\n",
       "       [0., 0., 0., 0., 1., 0.],\n",
       "       [1., 0., 0., 0., 0., 0.],\n",
       "       [0., 0., 0., 1., 0., 0.]], dtype=float32)"
      ]
     },
     "execution_count": 20,
     "metadata": {},
     "output_type": "execute_result"
    }
   ],
   "source": [
    "y_test[:5,]"
   ]
  },
  {
   "cell_type": "code",
   "execution_count": 21,
   "metadata": {},
   "outputs": [
    {
     "data": {
      "text/plain": [
       "((2319,), (2319,))"
      ]
     },
     "execution_count": 21,
     "metadata": {},
     "output_type": "execute_result"
    }
   ],
   "source": [
    "y_pred_test=np.argmax(y_preds_test,axis=1) \n",
    "y_true_test=np.argmax(y_test,axis=1) \n",
    "\n",
    "y_true_test.shape, y_pred_test.shape"
   ]
  },
  {
   "cell_type": "markdown",
   "metadata": {},
   "source": [
    "###  Evaluate Model"
   ]
  },
  {
   "cell_type": "code",
   "execution_count": 22,
   "metadata": {},
   "outputs": [
    {
     "name": "stdout",
     "output_type": "stream",
     "text": [
      "[[390   0   1   0   1   0]\n",
      " [  0 403   0   0   0   0]\n",
      " [  0   0 356   0   0   0]\n",
      " [  0   0   0 374   0   0]\n",
      " [  0   0   0   0 414   0]\n",
      " [  1   1   0   0   0 378]]\n",
      "0.9982751185855973\n",
      "              precision    recall  f1-score   support\n",
      "\n",
      "           0       1.00      0.99      1.00       392\n",
      "           1       1.00      1.00      1.00       403\n",
      "           2       1.00      1.00      1.00       356\n",
      "           3       1.00      1.00      1.00       374\n",
      "           4       1.00      1.00      1.00       414\n",
      "           5       1.00      0.99      1.00       380\n",
      "\n",
      "    accuracy                           1.00      2319\n",
      "   macro avg       1.00      1.00      1.00      2319\n",
      "weighted avg       1.00      1.00      1.00      2319\n",
      "\n"
     ]
    }
   ],
   "source": [
    "import seaborn as sns\n",
    "import sklearn.metrics as skm\n",
    "import matplotlib.pyplot as plt\n",
    "from sklearn.metrics import accuracy_score as acc\n",
    "from sklearn.metrics import confusion_matrix,classification_report\n",
    "cm=confusion_matrix(y_true_test,y_pred_test)\n",
    "print(cm)\n",
    "print(acc(y_true_test,y_pred_test))\n",
    "print(classification_report(y_true_test,y_pred_test))"
   ]
  },
  {
   "cell_type": "code",
   "execution_count": 23,
   "metadata": {},
   "outputs": [
    {
     "data": {
      "image/png": "[encoded data removed]",
      "text/plain": [
       "<Figure size 576x432 with 2 Axes>"
      ]
     },
     "metadata": {
      "needs_background": "light"
     },
     "output_type": "display_data"
    }
   ],
   "source": [
    "cf=np.empty((6,6))\n",
    "for i in range(6):\n",
    "    cf[i]=(cm[i]/np.sum(cm[i]))\n",
    "    \n",
    "# group_counts = [\"{0:.0f}\".format(value) for value in cm.flatten()]\n",
    "group_percentages = [\"{0:.2%}\".format(value) for value in cf.flatten()]\n",
    "labels = [f\"{v1}\" for v1 in group_percentages]\n",
    "labels = np.asarray(labels).reshape(6,6)\n",
    "\n",
    "fig = plt.figure(figsize=(8,6))\n",
    "ax=fig.add_subplot(111)\n",
    "sns.heatmap(cm, annot=labels,fmt=\"\",cmap='RdYlBu_r',ax=ax)\n",
    "ax.set_xlabel(\"Predicted Labels\\n\\n Overall_accuracy=\"\"{0:.2%}\".format(acc(y_true_test,y_pred_test)))\n",
    "ax.set_ylabel(\"True Labels\")\n",
    "ax.set_title(\"Confusion Matrix\")\n",
    "ax.xaxis.set_ticklabels(['Walking','Jogging','Upstairs','Downstairs','Sitting','Standing'])\n",
    "ax.yaxis.set_ticklabels(['Walking','Jogging','Upstairs','Downstairs','Sitting','Standing'])\n",
    "plt.savefig('ConfusionMatrix_Ensem-HAR_WISDM',dpi=1200, bbox_inches='tight')"
   ]
  },
  {
   "cell_type": "code",
   "execution_count": 24,
   "metadata": {},
   "outputs": [
    {
     "data": {
      "text/plain": [
       "(0.9982927414526364, 0.9982724668814895, 0.9982803509022101, None)"
      ]
     },
     "execution_count": 24,
     "metadata": {},
     "output_type": "execute_result"
    }
   ],
   "source": [
    "from sklearn.metrics import precision_recall_fscore_support\n",
    "precision_recall_fscore_support(y_true_test, y_pred_test, average='macro')"
   ]
  },
  {
   "cell_type": "code",
   "execution_count": null,
   "metadata": {},
   "outputs": [],
   "source": []
  }
 ],
 "metadata": {
  "kernelspec": {
   "display_name": "Python 3 (ipykernel)",
   "language": "python",
   "name": "python3"
  },
  "language_info": {
   "codemirror_mode": {
    "name": "ipython",
    "version": 3
   },
   "file_extension": ".py",
   "mimetype": "text/x-python",
   "name": "python",
   "nbconvert_exporter": "python",
   "pygments_lexer": "ipython3",
   "version": "3.9.12"
  }
 },
 "nbformat": 4,
 "nbformat_minor": 4
}
